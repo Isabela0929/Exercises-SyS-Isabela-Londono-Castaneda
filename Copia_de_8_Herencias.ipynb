{
  "nbformat": 4,
  "nbformat_minor": 0,
  "metadata": {
    "colab": {
      "provenance": [],
      "include_colab_link": true
    },
    "kernelspec": {
      "name": "python3",
      "display_name": "Python 3"
    },
    "language_info": {
      "name": "python"
    }
  },
  "cells": [
    {
      "cell_type": "markdown",
      "metadata": {
        "id": "view-in-github",
        "colab_type": "text"
      },
      "source": [
        "<a href=\"https://colab.research.google.com/github/Isabela0929/Exercises-SyS-Isabela-Londono-Castaneda/blob/main/Copia_de_8_Herencias.ipynb\" target=\"_parent\"><img src=\"https://colab.research.google.com/assets/colab-badge.svg\" alt=\"Open In Colab\"/></a>"
      ]
    },
    {
      "cell_type": "markdown",
      "source": [
        "# Herencias en clases\n",
        "\n",
        "En programación, las herencias se refieren a la capacidad de una clase (llamada clase derivada o subclase) de heredar propiedades y métodos de otra clase (llamada clase base o superclase).\n",
        "\n",
        "La herencia es un concepto fundamental en la programación orientada a objetos (POO) y permite crear jerarquías de clases, donde las clases derivadas heredan características comunes de la clase base y también pueden agregar sus propias propiedades y métodos específicos.\n",
        "\n",
        "La herencia permite reutilizar el código existente, ya que las clases derivadas pueden aprovechar la funcionalidad implementada en la clase base sin tener que volver a escribirlo. Esto promueve la modularidad, el mantenimiento y la extensibilidad del código."
      ],
      "metadata": {
        "id": "vK6RvvN_QnR6"
      }
    },
    {
      "cell_type": "markdown",
      "source": [
        "### Ejemplo #1\n",
        "\n",
        "Supongamos que estás creando un programa para administrar empleados en una empresa. Tienes una clase base llamada \"Empleado\" y quieres crear una clase derivada llamada \"EmpleadoAsalariado\" que herede de la clase base."
      ],
      "metadata": {
        "id": "4r5En97IRAL5"
      }
    },
    {
      "cell_type": "code",
      "execution_count": 4,
      "metadata": {
        "id": "w7MZ5olnQkUm",
        "colab": {
          "base_uri": "https://localhost:8080/"
        },
        "outputId": "d496e5bd-5bee-415b-f8fd-5d4e02ba5c29"
      },
      "outputs": [
        {
          "output_type": "stream",
          "name": "stdout",
          "text": [
            "2000\n",
            "3000\n"
          ]
        }
      ],
      "source": [
        "class Empleado:\n",
        "    def __init__(self, nombre, salario):\n",
        "        self.nombre = nombre\n",
        "        self.salario = salario\n",
        "\n",
        "    def obtener_salario(self):\n",
        "        return self.salario\n",
        "\n",
        "class EmpleadoAsalariado(Empleado):\n",
        "    def __init__(self, nombre, salario, bono):\n",
        "        super().__init__(nombre, salario)  # Llama al constructor de la clase base\n",
        "        self.bono = bono\n",
        "\n",
        "    def obtener_salario(self):\n",
        "        return self.salario + self.bono\n",
        "\n",
        "# Creamos una instancia de la clase base\n",
        "empleado1 = Empleado(\"Juan\", 2000)\n",
        "print(empleado1.obtener_salario())  # Output: 2000\n",
        "\n",
        "# Creamos una instancia de la clase derivada\n",
        "empleado2 = EmpleadoAsalariado(\"Pedro\", 2500, 500)\n",
        "print(empleado2.obtener_salario())  # Output: 3000 (salario + bono)"
      ]
    },
    {
      "cell_type": "markdown",
      "source": [
        "En este ejemplo, la clase base \"Empleado\" tiene un constructor que recibe el nombre y el salario del empleado, y un método llamado \"obtener_salario()\" que devuelve el salario.\n",
        "\n",
        "La clase derivada \"EmpleadoAsalariado\" hereda de la clase base \"Empleado\" y agrega un nuevo atributo llamado \"bono\". Además, se anula el método \"obtener_salario()\" de la clase base para incluir el bono en el cálculo.\n",
        "\n",
        "Luego, creamos una instancia de la clase base \"Empleado\" y llamamos al método \"obtener_salario()\", devolviendo el salario básico.\n",
        "\n",
        "Después, creamos una instancia de la clase derivada \"EmpleadoAsalariado\" y llamamos al método \"obtener_salario()\", que devuelve el salario básico más el bono.\n",
        "\n",
        "Este ejemplo simplificado muestra cómo la clase derivada hereda los atributos y métodos de la clase base y puede agregar su propia funcionalidad."
      ],
      "metadata": {
        "id": "8pCtoWwfUQrG"
      }
    },
    {
      "cell_type": "markdown",
      "source": [
        "###Ejemplo #2\n",
        "\n",
        "Clases heredadas de automoviles"
      ],
      "metadata": {
        "id": "6RJac47SURZq"
      }
    },
    {
      "cell_type": "code",
      "source": [
        "class Vehiculo:\n",
        "    def __init__(self, marca, modelo, color):\n",
        "        self.marca = marca\n",
        "        self.modelo = modelo\n",
        "        self.color = color\n",
        "\n",
        "    def acelerar(self):\n",
        "        print(\"El vehículo está acelerando.\")\n",
        "\n",
        "    def frenar(self):\n",
        "        print(\"El vehículo está frenando.\")\n",
        "\n",
        "class Carro(Vehiculo):\n",
        "    def __init__(self, marca, modelo, color, num_puertas):\n",
        "        super().__init__(marca, modelo, color)\n",
        "        self.num_puertas = num_puertas\n",
        "\n",
        "    def abrir_puertas(self):\n",
        "        print(\"Las puertas del carro están abiertas.\")\n",
        "\n",
        "class Autobus(Vehiculo):\n",
        "    def __init__(self, marca, modelo, color, capacidad_pasajeros):\n",
        "        super().__init__(marca, modelo, color)\n",
        "        self.capacidad_pasajeros = capacidad_pasajeros\n",
        "\n",
        "    def subir_pasajeros(self):\n",
        "        print(\"Los pasajeros están subiendo al autobús.\")\n",
        "\n",
        "class Motocicleta(Vehiculo):\n",
        "    def __init__(self, marca, modelo, color, cilindrada):\n",
        "        super().__init__(marca, modelo, color)\n",
        "        self.cilindrada = cilindrada\n",
        "\n",
        "    def encender(self):\n",
        "        print(\"La motocicleta está encendida.\")\n",
        "\n",
        "class Hibrido(Carro):\n",
        "    def __init__(self, marca, modelo, color, num_puertas,modo_electrico):\n",
        "        super().__init__(marca, modelo, color, num_puertas)\n",
        "        self.modo_electrico = False\n",
        "\n",
        "\n",
        "    def activar_modo_electrico(self):\n",
        "        self.modo_electrico = True\n",
        "        print(\"El vehículo híbrido está en modo eléctrico.\")\n",
        "\n",
        "class Camion(Vehiculo):\n",
        "    def __init__(self, marca, modelo, color, capacidad_carga):\n",
        "        super().__init__(marca, modelo, color)\n",
        "        self.capacidad_carga = capacidad_carga\n",
        "\n",
        "    def cargar_mercancia(self):\n",
        "        print(\"Se está cargando la mercancía en el camión.\")"
      ],
      "metadata": {
        "id": "xYt75MD3Yy46"
      },
      "execution_count": 5,
      "outputs": []
    },
    {
      "cell_type": "markdown",
      "source": [
        "En este ejemplo, tenemos una clase base llamada \"Vehiculo\" que contiene atributos y métodos generales que son comunes a todos los vehículos. Luego, tenemos las clases derivadas \"Carro\", \"Autobus\", \"Motocicleta\", \"Hibrido\" y \"Camion\" que heredan de la clase base y añaden atributos y métodos específicos.\n",
        "\n",
        "Cada clase derivada tiene su propio constructor que llama al constructor de la clase base utilizando la función super(). Además, cada clase derivada puede tener sus propios métodos adicionales según las características particulares del tipo de vehículo.\n",
        "\n",
        "Con este ejemplo, puedes crear instancias de los diferentes tipos de vehículos y acceder a sus métodos y atributos heredados. Por ejemplo:"
      ],
      "metadata": {
        "id": "-Gzan4-0duTq"
      }
    },
    {
      "cell_type": "code",
      "source": [
        "carro = Carro(\"Toyota\", \"Corolla\", \"Rojo\", 4)\n",
        "carro.acelerar()\n",
        "carro.abrir_puertas()\n",
        "\n",
        "autobus = Autobus(\"Mercedes\", \"Citaro\", \"Blanco\", 50)\n",
        "autobus.frenar()\n",
        "autobus.subir_pasajeros()\n",
        "\n",
        "motocicleta = Motocicleta(\"Honda\", \"CBR\", \"Negro\", 500)\n",
        "motocicleta.encender()\n",
        "motocicleta.frenar()\n",
        "\n",
        "hibrido = Hibrido(\"Toyota\", \"Prius\", \"Azul\", 4)\n",
        "Hibrido.acelerar()\n",
        "Hibrido.abrir_puertas()\n"
      ],
      "metadata": {
        "colab": {
          "base_uri": "https://localhost:8080/",
          "height": 348
        },
        "id": "0MxNgAgyd3b7",
        "outputId": "aaef069b-493a-4299-cfbc-0b04d7c02161"
      },
      "execution_count": 7,
      "outputs": [
        {
          "output_type": "stream",
          "name": "stdout",
          "text": [
            "El vehículo está acelerando.\n",
            "Las puertas del carro están abiertas.\n",
            "El vehículo está frenando.\n",
            "Los pasajeros están subiendo al autobús.\n",
            "La motocicleta está encendida.\n",
            "El vehículo está frenando.\n"
          ]
        },
        {
          "output_type": "error",
          "ename": "TypeError",
          "evalue": "ignored",
          "traceback": [
            "\u001b[0;31m---------------------------------------------------------------------------\u001b[0m",
            "\u001b[0;31mTypeError\u001b[0m                                 Traceback (most recent call last)",
            "\u001b[0;32m<ipython-input-7-5d558a66f2c4>\u001b[0m in \u001b[0;36m<cell line: 13>\u001b[0;34m()\u001b[0m\n\u001b[1;32m     11\u001b[0m \u001b[0mmotocicleta\u001b[0m\u001b[0;34m.\u001b[0m\u001b[0mfrenar\u001b[0m\u001b[0;34m(\u001b[0m\u001b[0;34m)\u001b[0m\u001b[0;34m\u001b[0m\u001b[0;34m\u001b[0m\u001b[0m\n\u001b[1;32m     12\u001b[0m \u001b[0;34m\u001b[0m\u001b[0m\n\u001b[0;32m---> 13\u001b[0;31m \u001b[0mhibrido\u001b[0m \u001b[0;34m=\u001b[0m \u001b[0mHibrido\u001b[0m\u001b[0;34m(\u001b[0m\u001b[0;34m\"Toyota\"\u001b[0m\u001b[0;34m,\u001b[0m \u001b[0;34m\"Prius\"\u001b[0m\u001b[0;34m,\u001b[0m \u001b[0;34m\"Azul\"\u001b[0m\u001b[0;34m,\u001b[0m \u001b[0;36m4\u001b[0m\u001b[0;34m)\u001b[0m\u001b[0;34m\u001b[0m\u001b[0;34m\u001b[0m\u001b[0m\n\u001b[0m\u001b[1;32m     14\u001b[0m \u001b[0mHibrido\u001b[0m\u001b[0;34m.\u001b[0m\u001b[0macelerar\u001b[0m\u001b[0;34m(\u001b[0m\u001b[0;34m)\u001b[0m\u001b[0;34m\u001b[0m\u001b[0;34m\u001b[0m\u001b[0m\n\u001b[1;32m     15\u001b[0m \u001b[0mHibrido\u001b[0m\u001b[0;34m.\u001b[0m\u001b[0mabrir_puertas\u001b[0m\u001b[0;34m(\u001b[0m\u001b[0;34m)\u001b[0m\u001b[0;34m\u001b[0m\u001b[0;34m\u001b[0m\u001b[0m\n",
            "\u001b[0;31mTypeError\u001b[0m: Hibrido.__init__() missing 1 required positional argument: 'modo_electrico'"
          ]
        }
      ]
    },
    {
      "cell_type": "markdown",
      "source": [
        "## Ejercicio_1.\n",
        "\n",
        "Crea un sistema de manejo de figuras geométricas utilizando clases y herencia. Debes tener una clase base llamada \"FiguraGeometrica\" con un método abstracto llamado \"calcular_area()\". Luego, crea clases derivadas para diferentes tipos de figuras geométricas, como \"Círculo\", \"Rectángulo\" y \"Triángulo\". Cada clase derivada debe implementar el método \"calcular_area()\" de acuerdo con la fórmula correspondiente para el cálculo del área de esa figura."
      ],
      "metadata": {
        "id": "ZjKccYRmvtN7"
      }
    },
    {
      "cell_type": "code",
      "source": [
        "import numpy as np\n",
        "from math import sqrt\n",
        "\n",
        "class FiguraGeometrica:\n",
        "    def __init__(self, base, altura):\n",
        "      self.base = base\n",
        "      self.altura = altura\n",
        "\n",
        "class FiguraGeometrica_Conica:\n",
        "    def __init__(self, radio):\n",
        "      self.radio = radio\n",
        "\n",
        "\n",
        "class Triangulo(FiguraGeometrica):\n",
        "    def __init__(self, base, altura):\n",
        "      super().__init__(base, altura)\n",
        "\n",
        "    def CalcularAreaT(self):\n",
        "      area = (self.base * self.altura)/2\n",
        "      print('El area del triangulo es : ', area)\n",
        "\n",
        "class Cuadrilatero(FiguraGeometrica):\n",
        "    def __init__(self, base, altura):\n",
        "      super().__init__(base, altura)\n",
        "\n",
        "\n",
        "    def CalcularAreaC(self):\n",
        "      area = self.base*self.altura\n",
        "      print('El area del cuadrilatero es:', area )\n",
        "\n",
        "class Circulo(FiguraGeometrica_Conica):\n",
        "    def __init__(self, radio):\n",
        "      super().__init__(radio)\n",
        "\n",
        "    def CalcularAreaCi(self):\n",
        "      area = round(np.pi*(self.radio**2), 3)\n",
        "      print('El área del circulo es: ', area)\n",
        "\n",
        "triangulo = Triangulo(2,2)\n",
        "cuadrilatero = Cuadrilatero(3,6)\n",
        "circulo = Circulo(8)\n",
        "\n",
        "triangulo.CalcularAreaT()\n",
        "cuadrilatero.CalcularAreaC()\n",
        "circulo.CalcularAreaCi()"
      ],
      "metadata": {
        "colab": {
          "base_uri": "https://localhost:8080/"
        },
        "id": "AugBzgnXwZR2",
        "outputId": "9db63d45-ef22-4f2c-841e-c8237ab0ad79"
      },
      "execution_count": 14,
      "outputs": [
        {
          "output_type": "stream",
          "name": "stdout",
          "text": [
            "El area del triangulo es :  2.0\n",
            "El area del cuadrilatero es: 18\n",
            "El área del circulo es:  201.062\n"
          ]
        }
      ]
    },
    {
      "cell_type": "markdown",
      "source": [
        "## Ejercicio_2\n",
        "\n",
        "Crea un sistema de reserva de vuelos utilizando clases y herencia. Debes tener una clase base llamada \"Vuelo\" con los siguientes atributos: número de vuelo, origen, destino, y capacidad máxima de pasajeros. Luego, crea una clase derivada llamada \"VueloEconomico\" que herede de la clase base y agregue un atributo adicional llamado \"tarifa\". Además, agrega métodos en ambas clases para mostrar la información del vuelo y realizar una reserva de asientos.\n",
        "\n",
        "La clase base \"Vuelo\" debe tener un método para verificar si hay asientos disponibles y otro para realizar la reserva de un asiento. La clase derivada \"VueloEconomico\" puede tener métodos adicionales para calcular el precio total de la reserva de acuerdo con la tarifa y la cantidad de asientos reservados."
      ],
      "metadata": {
        "id": "VVeP1H2KwHaa"
      }
    },
    {
      "cell_type": "code",
      "source": [
        "class vuelo:\n",
        "  def __init__(self, num.vuelo , origen, destino, capacidadmax):\n",
        "       self.numvuelo = numvuelo\n",
        "       self.origen = origen\n",
        "       self.destino = destino\n",
        "       self.capacidadmax = capacidadmax\n",
        "\n",
        "class vueloeconomico:\n",
        "  def __init__(self, num.vuelo , origen, destino, capacidadmax, tarifa ):\n",
        "     super().__init__(self, num.vuelo , origen, destino, capacidadmax)\n",
        "     self.tarifa = tarifa\n",
        "  print(\"\")\n",
        "\n"
      ],
      "metadata": {
        "id": "D1ysIU2A40Im"
      },
      "execution_count": null,
      "outputs": []
    }
  ]
}